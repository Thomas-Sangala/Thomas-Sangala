{
 "cells": [
  {
   "cell_type": "code",
   "execution_count": 14,
   "id": "87994120-e8ea-4b4b-a664-363dc43ec7b9",
   "metadata": {},
   "outputs": [
    {
     "name": "stdout",
     "output_type": "stream",
     "text": [
      "-------- Welcome to WsCube Bank --------\n",
      "\n",
      "How Can We Help You Today ?\n",
      "\n",
      "\n",
      "1. Open an Account\n",
      "2. View Account Details\n",
      "3. Perform Transactions (Withdraw/Deposit/Transfer\n",
      "4. View Transaction History\n",
      "5. Exit\n",
      "    \n",
      "\n"
     ]
    },
    {
     "name": "stdin",
     "output_type": "stream",
     "text": [
      "Enter your choice between 1 to 5:  1\n",
      "Enter First Name:  amy\n",
      "Enter Last Name:  jen\n",
      "Enter Pan Card Number:  12312312\n",
      "Which type of account would you like to open (Current/Saving):  saving\n",
      "How much amount do you want to deposit?  5000\n"
     ]
    },
    {
     "name": "stdout",
     "output_type": "stream",
     "text": [
      "Your Assigned username is amy37\n",
      "Your Assigned password is  3552\n",
      "Account Number: 111122224488\n",
      "Account Type: saving\n",
      "Your Initial balance is Rs. 5000\n",
      "\n",
      "\n",
      "\n",
      "1. Open an Account\n",
      "2. View Account Details\n",
      "3. Perform Transactions (Withdraw/Deposit/Transfer\n",
      "4. View Transaction History\n",
      "5. Exit\n",
      "    \n",
      "\n"
     ]
    },
    {
     "name": "stdin",
     "output_type": "stream",
     "text": [
      "Enter your choice between 1 to 5:  2\n",
      "Enter Username:  amy37\n",
      "Enter Password:  3552\n",
      "Enter PAN card Number:  12312312\n"
     ]
    },
    {
     "name": "stdout",
     "output_type": "stream",
     "text": [
      "This Account does not exist, try again!\n",
      "\n",
      "\n",
      "1. Open an Account\n",
      "2. View Account Details\n",
      "3. Perform Transactions (Withdraw/Deposit/Transfer\n",
      "4. View Transaction History\n",
      "5. Exit\n",
      "    \n",
      "\n"
     ]
    },
    {
     "name": "stdin",
     "output_type": "stream",
     "text": [
      "Enter your choice between 1 to 5:  3\n",
      "Enter Username:  amy37\n",
      "Enter Password:  3552\n",
      "Enter PAN card Number:  12312312\n"
     ]
    },
    {
     "name": "stdout",
     "output_type": "stream",
     "text": [
      "Authentication failed! Please check your details.\n",
      "\n",
      "\n",
      "1. Open an Account\n",
      "2. View Account Details\n",
      "3. Perform Transactions (Withdraw/Deposit/Transfer\n",
      "4. View Transaction History\n",
      "5. Exit\n",
      "    \n",
      "\n"
     ]
    },
    {
     "name": "stdin",
     "output_type": "stream",
     "text": [
      "Enter your choice between 1 to 5:  4\n",
      "Enter Username:  amy37\n",
      "Enter Password:  3552\n",
      "Enter PAN card Number:  12312312\n"
     ]
    },
    {
     "name": "stdout",
     "output_type": "stream",
     "text": [
      "No transaction history found or authentication failed.\n",
      "\n",
      "\n",
      "1. Open an Account\n",
      "2. View Account Details\n",
      "3. Perform Transactions (Withdraw/Deposit/Transfer\n",
      "4. View Transaction History\n",
      "5. Exit\n",
      "    \n",
      "\n"
     ]
    },
    {
     "name": "stdin",
     "output_type": "stream",
     "text": [
      "Enter your choice between 1 to 5:  1\n",
      "Enter First Name:  tony\n",
      "Enter Last Name:  pony\n",
      "Enter Pan Card Number:  1234asdf\n",
      "Which type of account would you like to open (Current/Saving):  Current\n",
      "How much amount do you want to deposit?  7777\n"
     ]
    },
    {
     "name": "stdout",
     "output_type": "stream",
     "text": [
      "Your Assigned username is tony29\n",
      "Your Assigned password is  1034\n",
      "Account Number: 111122229072\n",
      "Account Type: Current\n",
      "Your Initial balance is Rs. 7777\n",
      "\n",
      "\n",
      "\n",
      "1. Open an Account\n",
      "2. View Account Details\n",
      "3. Perform Transactions (Withdraw/Deposit/Transfer\n",
      "4. View Transaction History\n",
      "5. Exit\n",
      "    \n",
      "\n"
     ]
    },
    {
     "name": "stdin",
     "output_type": "stream",
     "text": [
      "Enter your choice between 1 to 5:  3\n",
      "Enter Username:  tony29\n",
      "Enter Password:  1034\n",
      "Enter PAN card Number:  1234asdf\n"
     ]
    },
    {
     "name": "stdout",
     "output_type": "stream",
     "text": [
      "Authentication failed! Please check your details.\n",
      "\n",
      "\n",
      "1. Open an Account\n",
      "2. View Account Details\n",
      "3. Perform Transactions (Withdraw/Deposit/Transfer\n",
      "4. View Transaction History\n",
      "5. Exit\n",
      "    \n",
      "\n"
     ]
    },
    {
     "name": "stdin",
     "output_type": "stream",
     "text": [
      "Enter your choice between 1 to 5:  5\n"
     ]
    },
    {
     "name": "stdout",
     "output_type": "stream",
     "text": [
      "Thank you for banking with WsCube Bank. Goodbye!\n"
     ]
    }
   ],
   "source": [
    "# import random \n",
    "import datetime\n",
    "\n",
    "# Initialize dictionaries to store data\n",
    "credentials = {}\n",
    "users_db = {}\n",
    "passbook = {}\n",
    "nested_t = {}\n",
    "\n",
    "# Welcome message\n",
    "print(\"-\" * 8, \"Welcome to WsCube Bank\", \"-\" * 8)\n",
    "print(\"\\nHow Can We Help You Today ?\")\n",
    "\n",
    "while True:\n",
    "    print(\"\"\"\\n\n",
    "1. Open an Account\n",
    "2. View Account Details\n",
    "3. Perform Transactions (Withdraw/Deposit/Transfer\n",
    "4. View Transaction History\n",
    "5. Exit\n",
    "    \\n\"\"\")\n",
    "    choice = int(input(\"Enter your choice between 1 to 5: \"))\n",
    "\n",
    "    if choice == 1: # Open an account\n",
    "        fname = input(\"Enter First Name: \")\n",
    "        lname = input(\"Enter Last Name: \")\n",
    "        pancard = input(\"Enter Pan Card Number: \")\n",
    "\n",
    "        if pancard in users_db.keys():\n",
    "            print(\"Your account already exits!\")\n",
    "            print(\"Try Again\")\n",
    "            continue\n",
    "\n",
    "        # Generate account number & username\n",
    "        account_number = \"11112222\"  #constant code for branch\n",
    "        for i in range(4):\n",
    "            account_number += str(random.randint(0, 9))\n",
    "\n",
    "        account_type = input(\"Which type of account would you like to open (Current/Saving): \")\n",
    "        balance = int(input(\"How much amount do you want to deposit? \"))\n",
    "        username = fname\n",
    "\n",
    "        for i in range(2):\n",
    "            username += str(random.randint(0, 9))\n",
    "\n",
    "        # Generating password\n",
    "        password = \" \"\n",
    "        for i in range(4):\n",
    "            password += str(random.randint(0, 9))\n",
    "\n",
    "        # Print assigned details\n",
    "        print(\"Your Assigned username is\", username)\n",
    "        print(\"Your Assigned password is\", password)\n",
    "        print(\"Account Number:\", account_number)\n",
    "        print(\"Account Type:\", account_type)\n",
    "        print(\"Your Initial balance is Rs.\", balance)\n",
    "        print()\n",
    "\n",
    "        # Save credentials & user details\n",
    "        credentials[username] = password\n",
    "        users_db[pancard] = [fname, lname, account_number, account_type, balance]\n",
    "\n",
    "    elif choice ==2:  #view account details\n",
    "        un = input(\"Enter Username: \")\n",
    "        ps = input(\"Enter Password: \")\n",
    "        pc = input(\"Enter PAN card Number: \")\n",
    "\n",
    "        if un in credentials.keys() and ps == credentials[un] and pc in users_db.keys():\n",
    "            print(\"Your Account Details are: \")\n",
    "            print(\"Account Number:\", users_db[pc][2])\n",
    "            print(\"Account Holder's Name:\", users_db[pc][0], users_db[pc][1])\n",
    "            print(\"Account Type:\", users_db[pc][3])\n",
    "            print(\"Total Balance is: Rs.\", users_db[pc][4])\n",
    "        else:\n",
    "            print(\"This Account does not exist, try again!\")\n",
    "\n",
    "    elif choice ==3: #perform transactions\n",
    "        un = input(\"Enter Username: \")\n",
    "        ps = input(\"Enter Password: \")\n",
    "        pc = input(\"Enter PAN card Number: \")\n",
    "\n",
    "        if un in credentials.keys() and ps == credentials[un] and pc in users_db.keys():\n",
    "            print(\"\"\"\n",
    "1. Deposit\n",
    "2. Withdraw\n",
    "3. Transfer\"\"\")\n",
    "            t_type = input(\"Enter Transaction Type: \").capitalize()\n",
    "\n",
    "            if t_type == \"Deposit\":\n",
    "                t_amount = float(input(\"Enter amount you want to deposit: \"))\n",
    "                users_db[pc][4] += t_amount\n",
    "                timestamp = datetime.datetime.now()\n",
    "                print(\"Your current balance is: Rs.\", users_db[pc][4])\n",
    "\n",
    "            elif t_type ==\"Withdraw\":\n",
    "                t_amount = float(input(\"Enter amount you wish to withdraw: \"))\n",
    "                if t_amount > users_db[pc][4]:\n",
    "                    print(\"You cannot withdraw more than the deposited amount.\")\n",
    "                else:\n",
    "                    users_db[pc][4] -= t_amount\n",
    "                    timestamp = datetime.datetime.now()\n",
    "                    print(\"Remaining balance is Rs.\", users_db[pc][4])\n",
    "\n",
    "            elif t_type == \"Transfer\":\n",
    "                r_pancard = input(\"Enter receiver's PAN card: \")\n",
    "                t_amount = float(input(\"Enter amount you want to transfer: \"))\n",
    "\n",
    "                if t_amount > users_db[pc][4]:\n",
    "                    print(\"You cannot transfer more than the deposited amount.\")\n",
    "                elif r_pancard in users_db.keys():\n",
    "                    users_db[pc][4] -= t_amount\n",
    "                    users_db[r_pancard][4] += t_amount\n",
    "                    timestamp = datetime.datetime.now()\n",
    "                    print(\"Remaining balance is Rs.\", users_db[pc][4])\n",
    "                else:\n",
    "                    print(\"Receiver's account not found.\")\n",
    "\n",
    "            # Log transaction in passbook\n",
    "            nested_t[timestamp] = [t_type, t_amount, users_db[pc][4]]\n",
    "            passbook[pc] = nested_t\n",
    "\n",
    "        else:\n",
    "            print(\"Authentication failed! Please check your details.\") \n",
    "\n",
    "    elif choice == 4:  # view transaction history\n",
    "        un = input(\"Enter Username: \")\n",
    "        ps = input(\"Enter Password: \")\n",
    "        pc = input(\"Enter PAN card Number: \")\n",
    "\n",
    "        if un in credentials.keys() and ps == credentials[un] and pc in passbook.keys():\n",
    "            print(\"\\nTimestamp        Type     Amount    Balance\")\n",
    "            for timestamp, transactions in passbook[pc].items():\n",
    "                print(f\"{timestamp}    {transaction[0]}     {transaction[1]}      {transaction[2]}\")\n",
    "        else:\n",
    "            print(\"No transaction history found or authentication failed.\")\n",
    "\n",
    "    elif choice == 5:  #exit\n",
    "        print(\"Thank you for banking with WsCube Bank. Goodbye!\")\n",
    "        break\n",
    "\n",
    "    else:\n",
    "        print(\"Invalid choice. Please Try Again.\")\n",
    "    \n"
   ]
  }
 ],
 "metadata": {
  "kernelspec": {
   "display_name": "Python 3 (ipykernel)",
   "language": "python",
   "name": "python3"
  },
  "language_info": {
   "codemirror_mode": {
    "name": "ipython",
    "version": 3
   },
   "file_extension": ".py",
   "mimetype": "text/x-python",
   "name": "python",
   "nbconvert_exporter": "python",
   "pygments_lexer": "ipython3",
   "version": "3.11.2"
  }
 },
 "nbformat": 4,
 "nbformat_minor": 5
}
